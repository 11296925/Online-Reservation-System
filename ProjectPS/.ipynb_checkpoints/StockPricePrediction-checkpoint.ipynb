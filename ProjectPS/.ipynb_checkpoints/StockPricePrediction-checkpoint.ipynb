{
 "cells": [
  {
   "cell_type": "code",
   "execution_count": 132,
   "metadata": {},
   "outputs": [],
   "source": [
    "# Import modules\n",
    "\n",
    "import math\n",
    "import os\n",
    "# Watch out for assert_frame_equal, independent imported\n",
    "import pandas_datareader as web\n",
    "from pandas.util.testing import assert_frame_equal\n",
    "import numpy as np\n",
    "import pandas as pd\n",
    "from sklearn.preprocessing import MinMaxScaler\n",
    "from keras.models import Sequential\n",
    "from keras.layers import Dense, LSTM\n",
    "import matplotlib.pyplot as plt\n",
    "from datetime import date, datetime\n",
    "import scipy"
   ]
  },
  {
   "cell_type": "code",
   "execution_count": 379,
   "metadata": {},
   "outputs": [
    {
     "data": {
      "text/html": [
       "<div>\n",
       "<style scoped>\n",
       "    .dataframe tbody tr th:only-of-type {\n",
       "        vertical-align: middle;\n",
       "    }\n",
       "\n",
       "    .dataframe tbody tr th {\n",
       "        vertical-align: top;\n",
       "    }\n",
       "\n",
       "    .dataframe thead th {\n",
       "        text-align: right;\n",
       "    }\n",
       "</style>\n",
       "<table border=\"1\" class=\"dataframe\">\n",
       "  <thead>\n",
       "    <tr style=\"text-align: right;\">\n",
       "      <th></th>\n",
       "      <th>High</th>\n",
       "      <th>Low</th>\n",
       "      <th>Open</th>\n",
       "      <th>Close</th>\n",
       "      <th>Volume</th>\n",
       "      <th>Adj Close</th>\n",
       "    </tr>\n",
       "    <tr>\n",
       "      <th>Date</th>\n",
       "      <th></th>\n",
       "      <th></th>\n",
       "      <th></th>\n",
       "      <th></th>\n",
       "      <th></th>\n",
       "      <th></th>\n",
       "    </tr>\n",
       "  </thead>\n",
       "  <tbody>\n",
       "    <tr>\n",
       "      <th>2012-01-03</th>\n",
       "      <td>11.25</td>\n",
       "      <td>10.99</td>\n",
       "      <td>11.00</td>\n",
       "      <td>11.13</td>\n",
       "      <td>45709900.0</td>\n",
       "      <td>7.836860</td>\n",
       "    </tr>\n",
       "    <tr>\n",
       "      <th>2012-01-04</th>\n",
       "      <td>11.53</td>\n",
       "      <td>11.07</td>\n",
       "      <td>11.15</td>\n",
       "      <td>11.30</td>\n",
       "      <td>79725200.0</td>\n",
       "      <td>7.956559</td>\n",
       "    </tr>\n",
       "    <tr>\n",
       "      <th>2012-01-05</th>\n",
       "      <td>11.63</td>\n",
       "      <td>11.24</td>\n",
       "      <td>11.33</td>\n",
       "      <td>11.59</td>\n",
       "      <td>67877500.0</td>\n",
       "      <td>8.160754</td>\n",
       "    </tr>\n",
       "    <tr>\n",
       "      <th>2012-01-06</th>\n",
       "      <td>11.80</td>\n",
       "      <td>11.52</td>\n",
       "      <td>11.74</td>\n",
       "      <td>11.71</td>\n",
       "      <td>59840700.0</td>\n",
       "      <td>8.245250</td>\n",
       "    </tr>\n",
       "    <tr>\n",
       "      <th>2012-01-09</th>\n",
       "      <td>11.95</td>\n",
       "      <td>11.70</td>\n",
       "      <td>11.83</td>\n",
       "      <td>11.80</td>\n",
       "      <td>53981500.0</td>\n",
       "      <td>8.308619</td>\n",
       "    </tr>\n",
       "    <tr>\n",
       "      <th>...</th>\n",
       "      <td>...</td>\n",
       "      <td>...</td>\n",
       "      <td>...</td>\n",
       "      <td>...</td>\n",
       "      <td>...</td>\n",
       "      <td>...</td>\n",
       "    </tr>\n",
       "    <tr>\n",
       "      <th>2020-06-26</th>\n",
       "      <td>6.07</td>\n",
       "      <td>5.81</td>\n",
       "      <td>6.04</td>\n",
       "      <td>5.91</td>\n",
       "      <td>118435400.0</td>\n",
       "      <td>5.910000</td>\n",
       "    </tr>\n",
       "    <tr>\n",
       "      <th>2020-06-29</th>\n",
       "      <td>6.07</td>\n",
       "      <td>5.81</td>\n",
       "      <td>5.91</td>\n",
       "      <td>6.01</td>\n",
       "      <td>58208400.0</td>\n",
       "      <td>6.010000</td>\n",
       "    </tr>\n",
       "    <tr>\n",
       "      <th>2020-06-30</th>\n",
       "      <td>6.10</td>\n",
       "      <td>5.90</td>\n",
       "      <td>5.98</td>\n",
       "      <td>6.08</td>\n",
       "      <td>61909300.0</td>\n",
       "      <td>6.080000</td>\n",
       "    </tr>\n",
       "    <tr>\n",
       "      <th>2020-07-01</th>\n",
       "      <td>6.18</td>\n",
       "      <td>5.95</td>\n",
       "      <td>6.10</td>\n",
       "      <td>5.98</td>\n",
       "      <td>62454700.0</td>\n",
       "      <td>5.980000</td>\n",
       "    </tr>\n",
       "    <tr>\n",
       "      <th>2020-07-02</th>\n",
       "      <td>6.17</td>\n",
       "      <td>6.00</td>\n",
       "      <td>6.10</td>\n",
       "      <td>6.05</td>\n",
       "      <td>67245800.0</td>\n",
       "      <td>6.050000</td>\n",
       "    </tr>\n",
       "  </tbody>\n",
       "</table>\n",
       "<p>2139 rows × 6 columns</p>\n",
       "</div>"
      ],
      "text/plain": [
       "             High    Low   Open  Close       Volume  Adj Close\n",
       "Date                                                          \n",
       "2012-01-03  11.25  10.99  11.00  11.13   45709900.0   7.836860\n",
       "2012-01-04  11.53  11.07  11.15  11.30   79725200.0   7.956559\n",
       "2012-01-05  11.63  11.24  11.33  11.59   67877500.0   8.160754\n",
       "2012-01-06  11.80  11.52  11.74  11.71   59840700.0   8.245250\n",
       "2012-01-09  11.95  11.70  11.83  11.80   53981500.0   8.308619\n",
       "...           ...    ...    ...    ...          ...        ...\n",
       "2020-06-26   6.07   5.81   6.04   5.91  118435400.0   5.910000\n",
       "2020-06-29   6.07   5.81   5.91   6.01   58208400.0   6.010000\n",
       "2020-06-30   6.10   5.90   5.98   6.08   61909300.0   6.080000\n",
       "2020-07-01   6.18   5.95   6.10   5.98   62454700.0   5.980000\n",
       "2020-07-02   6.17   6.00   6.10   6.05   67245800.0   6.050000\n",
       "\n",
       "[2139 rows x 6 columns]"
      ]
     },
     "execution_count": 379,
     "metadata": {},
     "output_type": "execute_result"
    }
   ],
   "source": [
    "# Retrieve the information of the desired stocks\n",
    "def get_stock_data(stocktype, source, start='2012-01-01', end=date.today()):\n",
    "    df = web.DataReader(stocktype, source, start=start, end=end)\n",
    "    df = df.sort_index(axis=0 ,ascending=True)\n",
    "    return df\n",
    "\n",
    "# df = get_stock_data('F', 'yahoo')\n",
    "# df\n",
    "\n",
    "def create_training_set(data, training_data_len, history_days):\n",
    "    # Create scaled training dataset'\n",
    "    train_data = data[0:training_data_len, :]\n",
    "\n",
    "    # Split the data into x_train and y_train (x consists of history and y of following close index)\n",
    "    x_train, y_train = [], []\n",
    "\n",
    "    # Create a dataset of the desired amount of days used to predict the next day\n",
    "    for i in range(history_days, len(train_data)):\n",
    "        x_train.append(train_data[i-history_days:i, 0])\n",
    "        y_train.append(train_data[i, 0])\n",
    "\n",
    "    # Convert training arrays to numpy arrays\n",
    "    x_train, y_train = np.array(x_train), np.array(y_train)\n",
    "\n",
    "    # Reshape the data so it fits the LSTM network requirements\n",
    "    features = 1\n",
    "\n",
    "    x_train = np.reshape(x_train, (x_train.shape[0], history_days, features))\n",
    "    return x_train, y_train\n",
    "\n",
    "def test_network(pred_list, real_list):\n",
    "    min_confidence = 0.99\n",
    "    reward_list = []\n",
    "    reward = 1000\n",
    "    it = 0\n",
    "    real_value = real_list[0]\n",
    "\n",
    "    for i in range(1, len(pred_list)-1):\n",
    "        if pred_list[i] * min_confidence > real_value:\n",
    "            margin = reward * ((real_list[i] - real_value)/real_value)\n",
    "            reward = reward + margin\n",
    "            reward_list.append(margin)\n",
    "            it += 1\n",
    "        elif pred_list[i] < real_value * min_confidence:\n",
    "            margin = reward * ((real_value - real_list[i])/real_value)\n",
    "            reward = reward + margin\n",
    "            it += 1\n",
    "            reward_list.append(margin)\n",
    "        real_value = real_list[i]\n",
    "\n",
    "#     print('Total budget after {} days = {}'.format(i+2, reward))\n",
    "#     print('Total amount of investments = {}'.format(it))\n",
    "    return reward\n"
   ]
  },
  {
   "cell_type": "code",
   "execution_count": null,
   "metadata": {},
   "outputs": [],
   "source": [
    "# RUN ALGORITHM 100 X\n",
    "\n",
    "df = get_stock_data('F', 'yahoo')\n",
    "history_days = 60\n",
    "outcomes = []\n",
    "\n",
    "for i in range(100):\n",
    "    # Create a new data frame with only 'Close' column\n",
    "    data = df.filter(['Close'])\n",
    "    dataset = data.values\n",
    "    training_data_len = math.ceil(len(dataset)*0.8)\n",
    "    \n",
    "    scaler = MinMaxScaler(feature_range=(0,1))\n",
    "    scaled_data = scaler.fit_transform(dataset)\n",
    "    \n",
    "    x_train, y_train = create_training_set(scaled_data, training_data_len, 60)\n",
    "    \n",
    "    # Build Model\n",
    "    model = Sequential()\n",
    "    model.add(LSTM(50, return_sequences=True, input_shape=(history_days, 1)))\n",
    "    model.add(LSTM(50, return_sequences=False))\n",
    "    model.add(Dense(25))\n",
    "    model.add(Dense(1))\n",
    "    \n",
    "    model.compile(optimizer='adam', loss='mean_squared_error')\n",
    "    model.fit(x_train, y_train, batch_size=1, epochs=1)    \n",
    "    \n",
    "    # Create new array containing scaled values from last indices\n",
    "    test_data = scaled_data[training_data_len-history_days: , :]\n",
    "\n",
    "    # Create datasets x_test and y_test\n",
    "    x_test = []\n",
    "    y_test = dataset[training_data_len:, :]\n",
    "    for i in range(60, len(test_data)):\n",
    "        x_test.append(test_data[i-60:i, 0])\n",
    "\n",
    "    # Convert test set to numpy array\n",
    "    x_test = np.array(x_test)\n",
    "\n",
    "    # Reshape data\n",
    "    x_test = np.reshape(x_test, (x_test.shape[0], x_test.shape[1], 1))\n",
    "    predictions = model.predict(x_test)\n",
    "    predictions = scaler.inverse_transform(predictions)\n",
    "    \n",
    "    # Split Data\n",
    "    train = data[:training_data_len]\n",
    "    valid = data[training_data_len:]\n",
    "    valid['Predictions'] = predictions\n",
    "    \n",
    "    reward = test_network(np.array(valid['Predictions']), np.array(valid['Close']))\n",
    "    outcomes.append(reward)"
   ]
  },
  {
   "cell_type": "code",
   "execution_count": 380,
   "metadata": {},
   "outputs": [
    {
     "data": {
      "image/png": "[encoded data removed]",
      "text/plain": [
       "<Figure size 1152x576 with 1 Axes>"
      ]
     },
     "metadata": {
      "needs_background": "light"
     },
     "output_type": "display_data"
    }
   ],
   "source": [
    "# Visualize closing price history\n",
    "plt.figure(figsize=(16,8))\n",
    "plt.title('AEX Close Price History')\n",
    "plt.plot(df['Close'])\n",
    "plt.xlabel('Date')\n",
    "plt.ylabel('Close Index')\n",
    "plt.show()"
   ]
  },
  {
   "cell_type": "code",
   "execution_count": 381,
   "metadata": {},
   "outputs": [
    {
     "data": {
      "text/plain": [
       "1712"
      ]
     },
     "execution_count": 381,
     "metadata": {},
     "output_type": "execute_result"
    }
   ],
   "source": [
    "'''Split a part of the dataset into train and test set'''\n",
    "\n",
    "# Create a new data frame with only 'Close' column\n",
    "data = df.filter(['Close'])\n",
    "dataset = data.values\n",
    "training_data_len = math.ceil(len(dataset)*0.8)\n",
    "training_data_len"
   ]
  },
  {
   "cell_type": "markdown",
   "metadata": {},
   "source": [
    "First the value needs to be normalized in order to see which aspects were the most influential. In de praktijk is het bijna nooit mogelijk om data in een neural network te gooien zonder het eerst te preprocessen"
   ]
  },
  {
   "cell_type": "code",
   "execution_count": 382,
   "metadata": {},
   "outputs": [
    {
     "data": {
      "text/plain": [
       "array([[0.51482284],\n",
       "       [0.52711497],\n",
       "       [0.54808387],\n",
       "       ...,\n",
       "       [0.1496746 ],\n",
       "       [0.14244395],\n",
       "       [0.14750542]])"
      ]
     },
     "execution_count": 382,
     "metadata": {},
     "output_type": "execute_result"
    }
   ],
   "source": [
    "'''Scale the data'''\n",
    "scaler = MinMaxScaler(feature_range=(0,1))\n",
    "scaled_data = scaler.fit_transform(dataset)\n",
    "scaled_data"
   ]
  },
  {
   "cell_type": "markdown",
   "metadata": {},
   "source": [
    "De data moet gereshaped worden omdat het LSTM netwerk verwacht dat er een 3D dataset wordt ingegeven."
   ]
  },
  {
   "cell_type": "code",
   "execution_count": 383,
   "metadata": {},
   "outputs": [],
   "source": [
    "'''Create Training set'''\n",
    "\n",
    "def create_training_set(data, training_data_len, history_days):\n",
    "    # Create scaled training dataset'\n",
    "    train_data = data[0:training_data_len, :]\n",
    "\n",
    "    # Split the data into x_train and y_train (x consists of history and y of following close index)\n",
    "    x_train, y_train = [], []\n",
    "\n",
    "    # Create a dataset of the desired amount of days used to predict the next day\n",
    "    for i in range(history_days, len(train_data)):\n",
    "        x_train.append(train_data[i-history_days:i, 0])\n",
    "        y_train.append(train_data[i, 0])\n",
    "\n",
    "    # Convert training arrays to numpy arrays\n",
    "    x_train, y_train = np.array(x_train), np.array(y_train)\n",
    "\n",
    "    # Reshape the data so it fits the LSTM network requirements\n",
    "    features = 1\n",
    "\n",
    "    x_train = np.reshape(x_train, (x_train.shape[0], history_days, features))\n",
    "    return x_train, y_train\n",
    "\n",
    "history_days = 60\n",
    "x_train, y_train = create_training_set(scaled_data, training_data_len, 60)"
   ]
  },
  {
   "cell_type": "code",
   "execution_count": 384,
   "metadata": {},
   "outputs": [],
   "source": [
    "'''Build the LSTM Sequential Model'''\n",
    "\n",
    "model = Sequential()\n",
    "model.add(LSTM(50, return_sequences=True, input_shape=(history_days, 1)))\n",
    "model.add(LSTM(50, return_sequences=False))\n",
    "model.add(Dense(25))\n",
    "model.add(Dense(1))"
   ]
  },
  {
   "cell_type": "code",
   "execution_count": 385,
   "metadata": {},
   "outputs": [
    {
     "name": "stdout",
     "output_type": "stream",
     "text": [
      "1652/1652 [==============================] - 56s 34ms/step - loss: 0.0032\n"
     ]
    },
    {
     "data": {
      "text/plain": [
       "<tensorflow.python.keras.callbacks.History at 0x7fb78c4b7390>"
      ]
     },
     "execution_count": 385,
     "metadata": {},
     "output_type": "execute_result"
    }
   ],
   "source": [
    "'''Compile and train the model'''\n",
    "\n",
    "# Compile Model\n",
    "model.compile(optimizer='adam', loss='mean_squared_error')\n",
    "\n",
    "# Train Model\n",
    "model.fit(x_train, y_train, batch_size=1, epochs=1)"
   ]
  },
  {
   "cell_type": "code",
   "execution_count": 386,
   "metadata": {},
   "outputs": [],
   "source": [
    "'''Create test dataset'''\n",
    "\n",
    "# Create new array containing scaled values from last indices\n",
    "test_data = scaled_data[training_data_len-history_days: , :]\n",
    "\n",
    "# Create datasets x_test and y_test\n",
    "x_test = []\n",
    "y_test = dataset[training_data_len:, :]\n",
    "for i in range(60, len(test_data)):\n",
    "    x_test.append(test_data[i-60:i, 0])\n",
    "    \n",
    "# Convert test set to numpy array\n",
    "x_test = np.array(x_test)\n",
    "\n",
    "# Reshape data\n",
    "x_test = np.reshape(x_test, (x_test.shape[0], x_test.shape[1], 1))"
   ]
  },
  {
   "cell_type": "code",
   "execution_count": 387,
   "metadata": {},
   "outputs": [],
   "source": [
    "# Get the models predicted price values\n",
    "predictions = model.predict(x_test)\n",
    "predictions = scaler.inverse_transform(predictions)"
   ]
  },
  {
   "cell_type": "code",
   "execution_count": 388,
   "metadata": {},
   "outputs": [
    {
     "data": {
      "text/plain": [
       "0.0629875163004605"
      ]
     },
     "execution_count": 388,
     "metadata": {},
     "output_type": "execute_result"
    }
   ],
   "source": [
    "# Get the root mean squared error (RMSE)\n",
    "rmse = np.sqrt(np.mean(predictions-y_test)**2)\n",
    "rmse"
   ]
  },
  {
   "cell_type": "code",
   "execution_count": 389,
   "metadata": {},
   "outputs": [
    {
     "name": "stderr",
     "output_type": "stream",
     "text": [
      "/home/denny/anaconda3/lib/python3.7/site-packages/ipykernel_launcher.py:4: SettingWithCopyWarning: \n",
      "A value is trying to be set on a copy of a slice from a DataFrame.\n",
      "Try using .loc[row_indexer,col_indexer] = value instead\n",
      "\n",
      "See the caveats in the documentation: https://pandas.pydata.org/pandas-docs/stable/user_guide/indexing.html#returning-a-view-versus-a-copy\n",
      "  after removing the cwd from sys.path.\n"
     ]
    },
    {
     "data": {
      "image/png": "[encoded data removed]",
      "text/plain": [
       "<Figure size 1152x576 with 1 Axes>"
      ]
     },
     "metadata": {
      "needs_background": "light"
     },
     "output_type": "display_data"
    }
   ],
   "source": [
    "# Plot the data\n",
    "train = data[:training_data_len]\n",
    "valid = data[training_data_len:]\n",
    "valid['Predictions'] = predictions\n",
    "\n",
    "# Visualize the data\n",
    "plt.figure(figsize=(16,8))\n",
    "plt.title('Model')\n",
    "plt.xlabel('Data')\n",
    "plt.ylabel('Close Index')\n",
    "plt.plot(train['Close'])\n",
    "plt.plot(valid[['Close', 'Predictions']])\n",
    "plt.legend(['Train', 'Val', 'Predictions'], loc='upper left')\n",
    "plt.show()"
   ]
  },
  {
   "cell_type": "markdown",
   "metadata": {},
   "source": [
    "The cells below test if the neural network is able to predict the stock prices accurate enough to make profit. It will start trading with a budget of 1000 and only buys if de divergence is at least 1%. Another testing method is to check if there is a positive correlation between the predicted change of stock price and the actual change of stock price."
   ]
  },
  {
   "cell_type": "code",
   "execution_count": 390,
   "metadata": {},
   "outputs": [
    {
     "name": "stdout",
     "output_type": "stream",
     "text": [
      "Total budget after 427 days = 955.6656429232895\n",
      "Total amount of investments = 300\n"
     ]
    }
   ],
   "source": [
    "'''Test if profit would have been made over the testing results'''\n",
    " \n",
    "def test_network(pred_list, real_list):\n",
    "    min_confidence = 0.99\n",
    "    reward_list = []\n",
    "    reward = 1000\n",
    "    it = 0\n",
    "    real_value = real_list[0]\n",
    "\n",
    "    for i in range(1, len(pred_list)-1):\n",
    "        if pred_list[i] * min_confidence > real_value:\n",
    "            margin = reward * ((real_list[i] - real_value)/real_value)\n",
    "            reward = reward + margin\n",
    "            reward_list.append(margin)\n",
    "            it += 1\n",
    "        elif pred_list[i] < real_value * min_confidence:\n",
    "            margin = reward * ((real_value - real_list[i])/real_value)\n",
    "            reward = reward + margin\n",
    "            it += 1\n",
    "            reward_list.append(margin)\n",
    "        real_value = real_list[i]\n",
    "\n",
    "    print('Total budget after {} days = {}'.format(i+2, reward))\n",
    "    print('Total amount of investments = {}'.format(it))\n",
    "    return reward\n",
    "\n",
    "reward = test_network(np.array(valid['Predictions']), np.array(valid['Close']))"
   ]
  },
  {
   "cell_type": "code",
   "execution_count": 391,
   "metadata": {},
   "outputs": [
    {
     "name": "stdout",
     "output_type": "stream",
     "text": [
      "2.5738285859839443\n"
     ]
    }
   ],
   "source": [
    "def test_cor(pred_list, real_list):\n",
    "    rchanges, pchanges = [], []\n",
    "    for i in range(1, len(pred_list)):\n",
    "        real_change = real_list[i] - real_list[i-1]\n",
    "        pred_change = pred_list[i] - real_list[i-1]\n",
    "        rchanges.append(real_change)\n",
    "        pchanges.append(pred_change)\n",
    "    return rchanges, pchanges\n",
    "        \n",
    "r, p = test_cor(list(valid['Predictions']), list(valid['Close']))\n",
    "correlation, p_value = scipy.stats.pearsonr(r, p)\n",
    "print(correlation*100)\n"
   ]
  },
  {
   "cell_type": "code",
   "execution_count": 313,
   "metadata": {},
   "outputs": [
    {
     "name": "stdout",
     "output_type": "stream",
     "text": [
      "                Close\n",
      "Date                 \n",
      "2020-04-07  41.240002\n",
      "2020-04-08  43.849998\n",
      "2020-04-09  43.130001\n",
      "2020-04-13  42.759998\n",
      "2020-04-14  42.430000\n",
      "2020-04-15  40.480000\n",
      "2020-04-16  39.150002\n",
      "2020-04-17  43.220001\n",
      "2020-04-20  41.180000\n",
      "2020-04-21  40.959999\n",
      "2020-04-22  42.130001\n",
      "2020-04-23  43.450001\n",
      "2020-04-24  43.730000\n",
      "2020-04-27  43.939999\n",
      "2020-04-28  44.970001\n",
      "2020-04-29  47.459999\n",
      "2020-04-30  46.470001\n",
      "2020-05-01  43.139999\n",
      "2020-05-04  44.880001\n",
      "2020-05-05  44.830002\n",
      "2020-05-06  43.990002\n",
      "2020-05-07  44.240002\n",
      "2020-05-08  46.180000\n",
      "2020-05-11  45.740002\n",
      "2020-05-12  44.119999\n",
      "2020-05-13  41.930000\n",
      "2020-05-14  42.299999\n",
      "2020-05-15  42.000000\n",
      "2020-05-18  45.340000\n",
      "2020-05-19  43.939999\n",
      "2020-05-20  45.369999\n",
      "2020-05-21  44.560001\n",
      "2020-05-22  44.599998\n",
      "2020-05-26  45.910000\n",
      "2020-05-27  46.240002\n",
      "2020-05-28  45.040001\n",
      "2020-05-29  45.470001\n",
      "2020-06-01  46.279999\n",
      "2020-06-02  47.310001\n",
      "2020-06-03  49.240002\n",
      "2020-06-04  49.099998\n",
      "2020-06-05  53.080002\n",
      "2020-06-08  54.740002\n",
      "2020-06-09  53.520000\n",
      "2020-06-10  50.650002\n",
      "2020-06-11  46.180000\n",
      "2020-06-12  47.169998\n",
      "2020-06-15  47.139999\n",
      "2020-06-16  48.200001\n",
      "2020-06-17  46.630001\n",
      "2020-06-18  46.919998\n",
      "2020-06-19  45.980000\n",
      "2020-06-22  46.419998\n",
      "2020-06-23  46.700001\n",
      "2020-06-24  44.500000\n",
      "2020-06-25  45.169998\n",
      "2020-06-26  43.619999\n",
      "2020-06-29  44.320000\n",
      "2020-06-30  44.720001\n",
      "2020-07-01  43.709999\n"
     ]
    }
   ],
   "source": [
    "'''Example of predicting a single day'''\n",
    "\n",
    "# WERKT WSS NIET VANWEGE NIET OPNIEUW INGEVEN VAN DATA\n",
    "\n",
    "# Create new df\n",
    "new_df = df.filter(['Close'])\n",
    "print(new_df[-61:-1])\n",
    "\n",
    "\n",
    "# Get the last 60 day closing index values and convert the dataframe to an array\n",
    "last_60_days = new_df[-60:].values\n",
    "last_60_days_scaled = scaler.transform(last_60_days)\n",
    "\n",
    "# Create an empty list\n",
    "X_test = []\n",
    "\n",
    "# Append past 60 days\n",
    "X_test.append(last_60_days_scaled)\n",
    "\n",
    "# Convert X_test dataset to numpy array\n",
    "X_test = np.array(X_test)\n",
    "\n",
    "# Reshape the data\n",
    "X_test = np.reshape(X_test, (X_test.shape[0], X_test.shape[1], 1))\n",
    "\n",
    "# Get predicted scaled price\n",
    "pred_price = model.predict(X_test)"
   ]
  },
  {
   "cell_type": "code",
   "execution_count": 299,
   "metadata": {},
   "outputs": [
    {
     "name": "stdout",
     "output_type": "stream",
     "text": [
      "YT5YAPB532G3OSZE\n",
      "TSLA\n",
      "(                       1. open    2. high     3. low   4. close  5. volume\n",
      "date                                                                      \n",
      "2020-07-02 16:00:00  1207.4575  1208.8000  1207.4575  1208.8000    87450.0\n",
      "2020-07-02 15:59:00  1206.8400  1207.9600  1206.5400  1207.4600    65965.0\n",
      "2020-07-02 15:58:00  1207.1899  1207.3500  1206.4000  1206.6600    39510.0\n",
      "2020-07-02 15:57:00  1207.8879  1207.9800  1207.0100  1207.1899    39462.0\n",
      "2020-07-02 15:56:00  1207.4900  1208.2500  1206.5699  1208.2500    48363.0\n",
      "...                        ...        ...        ...        ...        ...\n",
      "2020-06-26 09:35:00   990.0693   992.2025   988.4700   991.0700    27171.0\n",
      "2020-06-26 09:34:00   988.3222   990.6498   986.5201   990.0966    56212.0\n",
      "2020-06-26 09:33:00   989.4972   989.5000   986.3000   988.3050    42743.0\n",
      "2020-06-26 09:32:00   991.5276   993.8600   989.0000   989.4750    34297.0\n",
      "2020-06-26 09:31:00   994.7800   995.0000   988.6500   991.7750   229145.0\n",
      "\n",
      "[1926 rows x 5 columns], {'1. Information': 'Intraday (1min) open, high, low, close prices and volume', '2. Symbol': 'TSLA', '3. Last Refreshed': '2020-07-02 16:00:00', '4. Interval': '1min', '5. Output Size': 'Full size', '6. Time Zone': 'US/Eastern'})\n"
     ]
    }
   ],
   "source": [
    "'''Retrieve real time stock values with free version of Alpha Vantage'''\n",
    "\n",
    "import pandas_datareader.data as web\n",
    "from alpha_vantage.timeseries import TimeSeries\n",
    "import sys\n",
    "import random\n",
    "\n",
    "def get_realtime(ticker, interval):\n",
    "    ticker = ticker\n",
    "    lines = open('av/keys').read().splitlines()\n",
    "    key = random.choice(lines)\n",
    "    print(key)\n",
    "    time = TimeSeries(key=key, output_format='pandas')\n",
    "    data = time.get_intraday(symbol=ticker, interval=interval, outputsize='full')\n",
    "\n",
    "    print(ticker)\n",
    "    print(data)\n",
    "\n",
    "get_realtime('TSLA', '1min')\n",
    "\n",
    "# web.get_quote_av([\"AAPL\", \"TSLA\"])\n",
    "\n",
    "# f = web.DataReader(\"AAPL\", \"av-daily\", start=datetime(2020, 2, 9),\n",
    "#                     end=datetime(2020, 5, 24),\n",
    "#                     api_key=os.getenv('YT5YAPB532G3OSZE'))\n",
    "\n",
    "# f.loc[\"2017-02-09\"]\n"
   ]
  },
  {
   "cell_type": "code",
   "execution_count": null,
   "metadata": {},
   "outputs": [],
   "source": []
  },
  {
   "cell_type": "code",
   "execution_count": null,
   "metadata": {},
   "outputs": [],
   "source": []
  }
 ],
 "metadata": {
  "kernelspec": {
   "display_name": "Python 3",
   "language": "python",
   "name": "python3"
  },
  "language_info": {
   "codemirror_mode": {
    "name": "ipython",
    "version": 3
   },
   "file_extension": ".py",
   "mimetype": "text/x-python",
   "name": "python",
   "nbconvert_exporter": "python",
   "pygments_lexer": "ipython3",
   "version": "3.7.7"
  }
 },
 "nbformat": 4,
 "nbformat_minor": 4
}
